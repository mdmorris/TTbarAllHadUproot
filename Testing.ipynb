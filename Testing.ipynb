{
 "cells": [
  {
   "cell_type": "code",
   "execution_count": 1,
   "id": "b8255544-a3f9-415a-b67c-5fd3dddc8b88",
   "metadata": {},
   "outputs": [
    {
     "name": "stderr",
     "output_type": "stream",
     "text": [
      "/opt/conda/lib/python3.8/site-packages/awkward0/__init__.py:8: DeprecationWarning: distutils Version classes are deprecated. Use packaging.version instead.\n",
      "  if distutils.version.LooseVersion(numpy.__version__) < distutils.version.LooseVersion(\"1.13.1\"):\n"
     ]
    }
   ],
   "source": [
    "import uproot\n",
    "from coffea import util\n",
    "import coffea\n",
    "from hist import Hist\n",
    "import awkward as ak\n",
    "from coffea.nanoevents import NanoEventsFactory, NanoAODSchema\n",
    "import matplotlib.pyplot as plt\n",
    "import uproot3\n",
    "import itertools\n",
    "import numpy as np\n",
    "import pandas as pd"
   ]
  },
  {
   "cell_type": "markdown",
   "id": "d42302aa-6d5c-4f1d-b182-8fbf360d3fda",
   "metadata": {
    "tags": []
   },
   "source": [
    "### Get contents of nanoaod"
   ]
  },
  {
   "cell_type": "code",
   "execution_count": 4,
   "id": "6b2b0769-a2df-47de-b753-5f239d981e17",
   "metadata": {},
   "outputs": [
    {
     "ename": "OSError",
     "evalue": "XRootD error: [FATAL] TLS error: resource temporarily unavailable: Unable to connect to xcache; error_ssl\nin file root://xcache//store/mc/RunIISummer20UL16NanoAODv9/TT_Mtt-1000toInf_TuneCP5_13TeV-powheg-pythia8/NANOAODSIM/106X_mcRun2_asymptotic_v17-v1/270000/7B50DBA5-347A-7D43-8A65-68E0A5845EF3.root",
     "output_type": "error",
     "traceback": [
      "\u001b[0;31m---------------------------------------------------------------------------\u001b[0m",
      "\u001b[0;31mOSError\u001b[0m                                   Traceback (most recent call last)",
      "Cell \u001b[0;32mIn [4], line 6\u001b[0m\n\u001b[1;32m      2\u001b[0m fname \u001b[38;5;241m=\u001b[39m \u001b[38;5;124m'\u001b[39m\u001b[38;5;124mroot://xcache//store/mc/RunIISummer20UL16NanoAODv9/TT_Mtt-1000toInf_TuneCP5_13TeV-powheg-pythia8/NANOAODSIM/106X_mcRun2_asymptotic_v17-v1/270000/7B50DBA5-347A-7D43-8A65-68E0A5845EF3.root\u001b[39m\u001b[38;5;124m'\u001b[39m\n\u001b[1;32m      3\u001b[0m \u001b[38;5;66;03m# fname = 'root://xcache//store/mc/RunIISummer20UL16NanoAODAPVv9/QCD_Pt-15to7000_TuneCP5_Flat2018_13TeV_pythia8/NANOAODSIM/106X_mcRun2_asymptotic_preVFP_v11-v1/280000/28D6431D-53B5-4848-9711-1004968A7B19.root'\u001b[39;00m\n\u001b[0;32m----> 6\u001b[0m rfile \u001b[38;5;241m=\u001b[39m \u001b[43muproot\u001b[49m\u001b[38;5;241;43m.\u001b[39;49m\u001b[43mopen\u001b[49m\u001b[43m(\u001b[49m\u001b[43mfname\u001b[49m\u001b[43m)\u001b[49m\n\u001b[1;32m      7\u001b[0m events \u001b[38;5;241m=\u001b[39m NanoEventsFactory\u001b[38;5;241m.\u001b[39mfrom_root(fname, schemaclass\u001b[38;5;241m=\u001b[39mNanoAODSchema)\u001b[38;5;241m.\u001b[39mevents()\n\u001b[1;32m      8\u001b[0m \u001b[38;5;66;03m# events.fields\u001b[39;00m\n\u001b[1;32m      9\u001b[0m \u001b[38;5;66;03m# events['LHEPdfWeight']\u001b[39;00m\n",
      "File \u001b[0;32m/opt/conda/lib/python3.8/site-packages/uproot/reading.py:141\u001b[0m, in \u001b[0;36mopen\u001b[0;34m(path, object_cache, array_cache, custom_classes, decompression_executor, interpretation_executor, **options)\u001b[0m\n\u001b[1;32m    132\u001b[0m \u001b[38;5;28;01mif\u001b[39;00m \u001b[38;5;129;01mnot\u001b[39;00m uproot\u001b[38;5;241m.\u001b[39m_util\u001b[38;5;241m.\u001b[39misstr(file_path) \u001b[38;5;129;01mand\u001b[39;00m \u001b[38;5;129;01mnot\u001b[39;00m (\n\u001b[1;32m    133\u001b[0m     \u001b[38;5;28mhasattr\u001b[39m(file_path, \u001b[38;5;124m\"\u001b[39m\u001b[38;5;124mread\u001b[39m\u001b[38;5;124m\"\u001b[39m) \u001b[38;5;129;01mand\u001b[39;00m \u001b[38;5;28mhasattr\u001b[39m(file_path, \u001b[38;5;124m\"\u001b[39m\u001b[38;5;124mseek\u001b[39m\u001b[38;5;124m\"\u001b[39m)\n\u001b[1;32m    134\u001b[0m ):\n\u001b[1;32m    135\u001b[0m     \u001b[38;5;28;01mraise\u001b[39;00m \u001b[38;5;167;01mValueError\u001b[39;00m(\n\u001b[1;32m    136\u001b[0m         \u001b[38;5;124m\"\u001b[39m\u001b[38;5;124m'\u001b[39m\u001b[38;5;124mpath\u001b[39m\u001b[38;5;124m'\u001b[39m\u001b[38;5;124m must be a string, pathlib.Path, an object with \u001b[39m\u001b[38;5;124m'\u001b[39m\u001b[38;5;124mread\u001b[39m\u001b[38;5;124m'\u001b[39m\u001b[38;5;124m and \u001b[39m\u001b[38;5;124m\"\u001b[39m\n\u001b[1;32m    137\u001b[0m         \u001b[38;5;124m\"\u001b[39m\u001b[38;5;124m'\u001b[39m\u001b[38;5;124mseek\u001b[39m\u001b[38;5;124m'\u001b[39m\u001b[38;5;124m methods, or a length-1 dict of \u001b[39m\u001b[38;5;124m{{\u001b[39m\u001b[38;5;124mfile_path: object_path}}, \u001b[39m\u001b[38;5;124m\"\u001b[39m\n\u001b[1;32m    138\u001b[0m         \u001b[38;5;124m\"\u001b[39m\u001b[38;5;124mnot \u001b[39m\u001b[38;5;132;01m{0}\u001b[39;00m\u001b[38;5;124m\"\u001b[39m\u001b[38;5;241m.\u001b[39mformat(\u001b[38;5;28mrepr\u001b[39m(path))\n\u001b[1;32m    139\u001b[0m     )\n\u001b[0;32m--> 141\u001b[0m file \u001b[38;5;241m=\u001b[39m \u001b[43mReadOnlyFile\u001b[49m\u001b[43m(\u001b[49m\n\u001b[1;32m    142\u001b[0m \u001b[43m    \u001b[49m\u001b[43mfile_path\u001b[49m\u001b[43m,\u001b[49m\n\u001b[1;32m    143\u001b[0m \u001b[43m    \u001b[49m\u001b[43mobject_cache\u001b[49m\u001b[38;5;241;43m=\u001b[39;49m\u001b[43mobject_cache\u001b[49m\u001b[43m,\u001b[49m\n\u001b[1;32m    144\u001b[0m \u001b[43m    \u001b[49m\u001b[43marray_cache\u001b[49m\u001b[38;5;241;43m=\u001b[39;49m\u001b[43marray_cache\u001b[49m\u001b[43m,\u001b[49m\n\u001b[1;32m    145\u001b[0m \u001b[43m    \u001b[49m\u001b[43mcustom_classes\u001b[49m\u001b[38;5;241;43m=\u001b[39;49m\u001b[43mcustom_classes\u001b[49m\u001b[43m,\u001b[49m\n\u001b[1;32m    146\u001b[0m \u001b[43m    \u001b[49m\u001b[43mdecompression_executor\u001b[49m\u001b[38;5;241;43m=\u001b[39;49m\u001b[43mdecompression_executor\u001b[49m\u001b[43m,\u001b[49m\n\u001b[1;32m    147\u001b[0m \u001b[43m    \u001b[49m\u001b[43minterpretation_executor\u001b[49m\u001b[38;5;241;43m=\u001b[39;49m\u001b[43minterpretation_executor\u001b[49m\u001b[43m,\u001b[49m\n\u001b[1;32m    148\u001b[0m \u001b[43m    \u001b[49m\u001b[38;5;241;43m*\u001b[39;49m\u001b[38;5;241;43m*\u001b[39;49m\u001b[43moptions\u001b[49m\u001b[43m,\u001b[49m\u001b[43m  \u001b[49m\u001b[38;5;66;43;03m# NOTE: a comma after **options breaks Python 2\u001b[39;49;00m\n\u001b[1;32m    149\u001b[0m \u001b[43m\u001b[49m\u001b[43m)\u001b[49m\n\u001b[1;32m    151\u001b[0m \u001b[38;5;28;01mif\u001b[39;00m object_path \u001b[38;5;129;01mis\u001b[39;00m \u001b[38;5;28;01mNone\u001b[39;00m:\n\u001b[1;32m    152\u001b[0m     \u001b[38;5;28;01mreturn\u001b[39;00m file\u001b[38;5;241m.\u001b[39mroot_directory\n",
      "File \u001b[0;32m/opt/conda/lib/python3.8/site-packages/uproot/reading.py:580\u001b[0m, in \u001b[0;36mReadOnlyFile.__init__\u001b[0;34m(self, file_path, object_cache, array_cache, custom_classes, decompression_executor, interpretation_executor, **options)\u001b[0m\n\u001b[1;32m    575\u001b[0m \u001b[38;5;28mself\u001b[39m\u001b[38;5;241m.\u001b[39mhook_before_create_source()\n\u001b[1;32m    577\u001b[0m Source, file_path \u001b[38;5;241m=\u001b[39m uproot\u001b[38;5;241m.\u001b[39m_util\u001b[38;5;241m.\u001b[39mfile_path_to_source_class(\n\u001b[1;32m    578\u001b[0m     file_path, \u001b[38;5;28mself\u001b[39m\u001b[38;5;241m.\u001b[39m_options\n\u001b[1;32m    579\u001b[0m )\n\u001b[0;32m--> 580\u001b[0m \u001b[38;5;28mself\u001b[39m\u001b[38;5;241m.\u001b[39m_source \u001b[38;5;241m=\u001b[39m \u001b[43mSource\u001b[49m\u001b[43m(\u001b[49m\n\u001b[1;32m    581\u001b[0m \u001b[43m    \u001b[49m\u001b[43mfile_path\u001b[49m\u001b[43m,\u001b[49m\u001b[43m \u001b[49m\u001b[38;5;241;43m*\u001b[39;49m\u001b[38;5;241;43m*\u001b[39;49m\u001b[38;5;28;43mself\u001b[39;49m\u001b[38;5;241;43m.\u001b[39;49m\u001b[43m_options\u001b[49m\u001b[43m  \u001b[49m\u001b[38;5;66;43;03m# NOTE: a comma after **options breaks Python 2\u001b[39;49;00m\n\u001b[1;32m    582\u001b[0m \u001b[43m\u001b[49m\u001b[43m)\u001b[49m\n\u001b[1;32m    584\u001b[0m \u001b[38;5;28mself\u001b[39m\u001b[38;5;241m.\u001b[39mhook_before_get_chunks()\n\u001b[1;32m    586\u001b[0m \u001b[38;5;28;01mif\u001b[39;00m \u001b[38;5;28mself\u001b[39m\u001b[38;5;241m.\u001b[39m_options[\u001b[38;5;124m\"\u001b[39m\u001b[38;5;124mbegin_chunk_size\u001b[39m\u001b[38;5;124m\"\u001b[39m] \u001b[38;5;241m<\u001b[39m _file_header_fields_big\u001b[38;5;241m.\u001b[39msize:\n",
      "File \u001b[0;32m/opt/conda/lib/python3.8/site-packages/uproot/source/xrootd.py:272\u001b[0m, in \u001b[0;36mXRootDSource.__init__\u001b[0;34m(self, file_path, **options)\u001b[0m\n\u001b[1;32m    270\u001b[0m \u001b[38;5;28mself\u001b[39m\u001b[38;5;241m.\u001b[39m_file_path \u001b[38;5;241m=\u001b[39m file_path\n\u001b[1;32m    271\u001b[0m \u001b[38;5;28mself\u001b[39m\u001b[38;5;241m.\u001b[39m_num_bytes \u001b[38;5;241m=\u001b[39m \u001b[38;5;28;01mNone\u001b[39;00m\n\u001b[0;32m--> 272\u001b[0m \u001b[38;5;28;43mself\u001b[39;49m\u001b[38;5;241;43m.\u001b[39;49m\u001b[43m_open\u001b[49m\u001b[43m(\u001b[49m\u001b[43m)\u001b[49m\n",
      "File \u001b[0;32m/opt/conda/lib/python3.8/site-packages/uproot/source/xrootd.py:275\u001b[0m, in \u001b[0;36mXRootDSource._open\u001b[0;34m(self)\u001b[0m\n\u001b[1;32m    274\u001b[0m \u001b[38;5;28;01mdef\u001b[39;00m \u001b[38;5;21m_open\u001b[39m(\u001b[38;5;28mself\u001b[39m):\n\u001b[0;32m--> 275\u001b[0m     \u001b[38;5;28mself\u001b[39m\u001b[38;5;241m.\u001b[39m_resource \u001b[38;5;241m=\u001b[39m \u001b[43mXRootDResource\u001b[49m\u001b[43m(\u001b[49m\u001b[38;5;28;43mself\u001b[39;49m\u001b[38;5;241;43m.\u001b[39;49m\u001b[43m_file_path\u001b[49m\u001b[43m,\u001b[49m\u001b[43m \u001b[49m\u001b[38;5;28;43mself\u001b[39;49m\u001b[38;5;241;43m.\u001b[39;49m\u001b[43m_timeout\u001b[49m\u001b[43m)\u001b[49m\n\u001b[1;32m    277\u001b[0m     \u001b[38;5;66;03m# this ThreadPool does not need a resource, it's only used to submit\u001b[39;00m\n\u001b[1;32m    278\u001b[0m     \u001b[38;5;66;03m# futures that wait for chunks that have been split to merge them.\u001b[39;00m\n\u001b[1;32m    279\u001b[0m     \u001b[38;5;28mself\u001b[39m\u001b[38;5;241m.\u001b[39m_executor \u001b[38;5;241m=\u001b[39m uproot\u001b[38;5;241m.\u001b[39msource\u001b[38;5;241m.\u001b[39mfutures\u001b[38;5;241m.\u001b[39mResourceThreadPoolExecutor(\n\u001b[1;32m    280\u001b[0m         [\u001b[38;5;28;01mNone\u001b[39;00m \u001b[38;5;28;01mfor\u001b[39;00m i \u001b[38;5;129;01min\u001b[39;00m \u001b[38;5;28mrange\u001b[39m(\u001b[38;5;28mself\u001b[39m\u001b[38;5;241m.\u001b[39m_num_workers)]\n\u001b[1;32m    281\u001b[0m     )\n",
      "File \u001b[0;32m/opt/conda/lib/python3.8/site-packages/uproot/source/xrootd.py:83\u001b[0m, in \u001b[0;36mXRootDResource.__init__\u001b[0;34m(self, file_path, timeout)\u001b[0m\n\u001b[1;32m     81\u001b[0m \u001b[38;5;28mself\u001b[39m\u001b[38;5;241m.\u001b[39m_file_path \u001b[38;5;241m=\u001b[39m file_path\n\u001b[1;32m     82\u001b[0m \u001b[38;5;28mself\u001b[39m\u001b[38;5;241m.\u001b[39m_timeout \u001b[38;5;241m=\u001b[39m timeout\n\u001b[0;32m---> 83\u001b[0m \u001b[38;5;28;43mself\u001b[39;49m\u001b[38;5;241;43m.\u001b[39;49m\u001b[43m_open\u001b[49m\u001b[43m(\u001b[49m\u001b[43m)\u001b[49m\n",
      "File \u001b[0;32m/opt/conda/lib/python3.8/site-packages/uproot/source/xrootd.py:92\u001b[0m, in \u001b[0;36mXRootDResource._open\u001b[0;34m(self)\u001b[0m\n\u001b[1;32m     90\u001b[0m status, dummy \u001b[38;5;241m=\u001b[39m \u001b[38;5;28mself\u001b[39m\u001b[38;5;241m.\u001b[39m_file\u001b[38;5;241m.\u001b[39mopen(\u001b[38;5;28mself\u001b[39m\u001b[38;5;241m.\u001b[39m_file_path, timeout\u001b[38;5;241m=\u001b[39m\u001b[38;5;28mself\u001b[39m\u001b[38;5;241m.\u001b[39m_xrd_timeout())\n\u001b[1;32m     91\u001b[0m \u001b[38;5;28;01mif\u001b[39;00m status\u001b[38;5;241m.\u001b[39merror:\n\u001b[0;32m---> 92\u001b[0m     \u001b[38;5;28;43mself\u001b[39;49m\u001b[38;5;241;43m.\u001b[39;49m\u001b[43m_xrd_error\u001b[49m\u001b[43m(\u001b[49m\u001b[43mstatus\u001b[49m\u001b[43m)\u001b[49m\n",
      "File \u001b[0;32m/opt/conda/lib/python3.8/site-packages/uproot/source/xrootd.py:118\u001b[0m, in \u001b[0;36mXRootDResource._xrd_error\u001b[0;34m(self, status)\u001b[0m\n\u001b[1;32m    115\u001b[0m             \u001b[38;5;28;01mraise\u001b[39;00m uproot\u001b[38;5;241m.\u001b[39m_util\u001b[38;5;241m.\u001b[39m_file_not_found(\u001b[38;5;28mself\u001b[39m\u001b[38;5;241m.\u001b[39m_file_path, status\u001b[38;5;241m.\u001b[39mmessage)\n\u001b[1;32m    117\u001b[0m         \u001b[38;5;28;01melse\u001b[39;00m:\n\u001b[0;32m--> 118\u001b[0m             \u001b[38;5;28;01mraise\u001b[39;00m \u001b[38;5;167;01mOSError\u001b[39;00m(\n\u001b[1;32m    119\u001b[0m                 \u001b[38;5;124;03m\"\"\"XRootD error: {}\u001b[39;00m\n\u001b[1;32m    120\u001b[0m \u001b[38;5;124;03min file {}\"\"\"\u001b[39;00m\u001b[38;5;241m.\u001b[39mformat(\n\u001b[1;32m    121\u001b[0m                     status\u001b[38;5;241m.\u001b[39mmessage, \u001b[38;5;28mself\u001b[39m\u001b[38;5;241m.\u001b[39m_file_path\n\u001b[1;32m    122\u001b[0m                 )\n\u001b[1;32m    123\u001b[0m             )\n",
      "\u001b[0;31mOSError\u001b[0m: XRootD error: [FATAL] TLS error: resource temporarily unavailable: Unable to connect to xcache; error_ssl\nin file root://xcache//store/mc/RunIISummer20UL16NanoAODv9/TT_Mtt-1000toInf_TuneCP5_13TeV-powheg-pythia8/NANOAODSIM/106X_mcRun2_asymptotic_v17-v1/270000/7B50DBA5-347A-7D43-8A65-68E0A5845EF3.root"
     ]
    }
   ],
   "source": [
    "# fname = 'root://xcache//store/data/Run2016B/JetHT/NANOAOD/ver1_HIPM_UL2016_MiniAODv2_NanoAODv9-v2/2430000/341EF3A8-3C77-8C4F-A0F6-A71CCB9FAF37.root'\n",
    "fname = 'root://xcache//store/mc/RunIISummer20UL16NanoAODv9/TT_Mtt-1000toInf_TuneCP5_13TeV-powheg-pythia8/NANOAODSIM/106X_mcRun2_asymptotic_v17-v1/270000/7B50DBA5-347A-7D43-8A65-68E0A5845EF3.root'\n",
    "# fname = 'root://xcache//store/mc/RunIISummer20UL16NanoAODAPVv9/QCD_Pt-15to7000_TuneCP5_Flat2018_13TeV_pythia8/NANOAODSIM/106X_mcRun2_asymptotic_preVFP_v11-v1/280000/28D6431D-53B5-4848-9711-1004968A7B19.root'\n",
    "\n",
    "\n",
    "rfile = uproot.open(fname)\n",
    "events = NanoEventsFactory.from_root(fname, schemaclass=NanoAODSchema).events()\n",
    "# events.fields\n",
    "# events['LHEPdfWeight']\n"
   ]
  },
  {
   "cell_type": "code",
   "execution_count": 3,
   "id": "7b8c7c29-8450-41cd-817e-266ddfd2fcc7",
   "metadata": {},
   "outputs": [
    {
     "ename": "NameError",
     "evalue": "name 'events' is not defined",
     "output_type": "error",
     "traceback": [
      "\u001b[0;31m---------------------------------------------------------------------------\u001b[0m",
      "\u001b[0;31mNameError\u001b[0m                                 Traceback (most recent call last)",
      "Cell \u001b[0;32mIn [3], line 2\u001b[0m\n\u001b[1;32m      1\u001b[0m Electrons \u001b[38;5;241m=\u001b[39m ak\u001b[38;5;241m.\u001b[39mzip({\n\u001b[0;32m----> 2\u001b[0m             \u001b[38;5;124m\"\u001b[39m\u001b[38;5;124mrun\u001b[39m\u001b[38;5;124m\"\u001b[39m: \u001b[43mevents\u001b[49m\u001b[38;5;241m.\u001b[39mrun,\n\u001b[1;32m      3\u001b[0m             \u001b[38;5;124m\"\u001b[39m\u001b[38;5;124mpt\u001b[39m\u001b[38;5;124m\"\u001b[39m: events\u001b[38;5;241m.\u001b[39mElectron_pt,\n\u001b[1;32m      4\u001b[0m             \u001b[38;5;124m\"\u001b[39m\u001b[38;5;124meta\u001b[39m\u001b[38;5;124m\"\u001b[39m: events\u001b[38;5;241m.\u001b[39mElectron_eta,\n\u001b[1;32m      5\u001b[0m             \u001b[38;5;124m\"\u001b[39m\u001b[38;5;124mphi\u001b[39m\u001b[38;5;124m\"\u001b[39m: events\u001b[38;5;241m.\u001b[39mElectron_phi,\n\u001b[1;32m      6\u001b[0m             \u001b[38;5;124m\"\u001b[39m\u001b[38;5;124mmass\u001b[39m\u001b[38;5;124m\"\u001b[39m: events\u001b[38;5;241m.\u001b[39mElectron_mass,\n\u001b[1;32m      7\u001b[0m             \u001b[38;5;124m\"\u001b[39m\u001b[38;5;124mp4\u001b[39m\u001b[38;5;124m\"\u001b[39m: ak\u001b[38;5;241m.\u001b[39mzip({\n\u001b[1;32m      8\u001b[0m                 \u001b[38;5;124m\"\u001b[39m\u001b[38;5;124mpt\u001b[39m\u001b[38;5;124m\"\u001b[39m: events\u001b[38;5;241m.\u001b[39mElectron_pt,\n\u001b[1;32m      9\u001b[0m                 \u001b[38;5;124m\"\u001b[39m\u001b[38;5;124meta\u001b[39m\u001b[38;5;124m\"\u001b[39m: events\u001b[38;5;241m.\u001b[39mElectron_eta,\n\u001b[1;32m     10\u001b[0m                 \u001b[38;5;124m\"\u001b[39m\u001b[38;5;124mphi\u001b[39m\u001b[38;5;124m\"\u001b[39m: events\u001b[38;5;241m.\u001b[39mElectron_phi,\n\u001b[1;32m     11\u001b[0m                 \u001b[38;5;124m\"\u001b[39m\u001b[38;5;124mmass\u001b[39m\u001b[38;5;124m\"\u001b[39m: events\u001b[38;5;241m.\u001b[39mElectron_mass,\n\u001b[1;32m     12\u001b[0m                 }, with_name\u001b[38;5;241m=\u001b[39m\u001b[38;5;124m\"\u001b[39m\u001b[38;5;124mPtEtaPhiMLorentzVector\u001b[39m\u001b[38;5;124m\"\u001b[39m),\n\u001b[1;32m     13\u001b[0m             })\n",
      "\u001b[0;31mNameError\u001b[0m: name 'events' is not defined"
     ]
    }
   ],
   "source": [
    "Electrons = ak.zip({\n",
    "            \"run\": events.run,\n",
    "            \"pt\": events.Electron_pt,\n",
    "            \"eta\": events.Electron_eta,\n",
    "            \"phi\": events.Electron_phi,\n",
    "            \"mass\": events.Electron_mass,\n",
    "            \"p4\": ak.zip({\n",
    "                \"pt\": events.Electron_pt,\n",
    "                \"eta\": events.Electron_eta,\n",
    "                \"phi\": events.Electron_phi,\n",
    "                \"mass\": events.Electron_mass,\n",
    "                }, with_name=\"PtEtaPhiMLorentzVector\"),\n",
    "            })"
   ]
  },
  {
   "cell_type": "code",
   "execution_count": 4,
   "id": "78a99fa5-1660-468d-a1ae-14856a2aaef5",
   "metadata": {},
   "outputs": [],
   "source": [
    "from coffea.analysis_tools import PackedSelection\n",
    "\n",
    "selection = PackedSelection()"
   ]
  },
  {
   "cell_type": "code",
   "execution_count": 5,
   "id": "5f04d7ea-e28b-4383-8454-3a5a6f88eacd",
   "metadata": {},
   "outputs": [
    {
     "data": {
      "text/plain": [
       "<coffea.analysis_tools.PackedSelection at 0x7f73883e2e20>"
      ]
     },
     "execution_count": 5,
     "metadata": {},
     "output_type": "execute_result"
    }
   ],
   "source": [
    "selection"
   ]
  },
  {
   "cell_type": "code",
   "execution_count": 3,
   "id": "31278047-74c5-4952-bed0-9b08187ee9d0",
   "metadata": {},
   "outputs": [
    {
     "data": {
      "text/plain": [
       "['L1',\n",
       " 'SoftActivityJetHT10',\n",
       " 'Photon',\n",
       " 'OtherPV',\n",
       " 'HLTriggerFinalPath',\n",
       " 'Flag',\n",
       " 'SoftActivityJetHT2',\n",
       " 'L1simulation',\n",
       " 'genWeight',\n",
       " 'SubJet',\n",
       " 'SubGenJetAK8',\n",
       " 'Muon',\n",
       " 'SoftActivityJetNjets2',\n",
       " 'luminosityBlock',\n",
       " 'DeepMETResponseTune',\n",
       " 'RawPuppiMET',\n",
       " 'Generator',\n",
       " 'GenVisTau',\n",
       " 'TrigObj',\n",
       " 'CorrT1METJet',\n",
       " 'Jet',\n",
       " 'MET',\n",
       " 'fixedGridRhoFastjetCentralCalo',\n",
       " 'fixedGridRhoFastjetAll',\n",
       " 'GenJet',\n",
       " 'DeepMETResolutionTune',\n",
       " 'PV',\n",
       " 'HLTriggerFirstPath',\n",
       " 'ChsMET',\n",
       " 'fixedGridRhoFastjetCentralNeutral',\n",
       " 'fixedGridRhoFastjetCentral',\n",
       " 'Tau',\n",
       " 'GenDressedLepton',\n",
       " 'GenMET',\n",
       " 'btagWeight',\n",
       " 'GenVtx',\n",
       " 'GenIsolatedPhoton',\n",
       " 'run',\n",
       " 'FsrPhoton',\n",
       " 'FatJet',\n",
       " 'fixedGridRhoFastjetCentralChargedPileUp',\n",
       " 'event',\n",
       " 'IsoTrack',\n",
       " 'Pileup',\n",
       " 'GenJetAK8',\n",
       " 'PuppiMET',\n",
       " 'SV',\n",
       " 'HTXS',\n",
       " 'PSWeight',\n",
       " 'LowPtElectron',\n",
       " 'L1Reco',\n",
       " 'genTtbarId',\n",
       " 'SoftActivityJetNjets10',\n",
       " 'TkMET',\n",
       " 'CaloMET',\n",
       " 'Electron',\n",
       " 'HLT',\n",
       " 'SoftActivityJetHT5',\n",
       " 'L1PreFiringWeight',\n",
       " 'GenPart',\n",
       " 'SoftActivityJetHT',\n",
       " 'SoftActivityJet',\n",
       " 'boostedTau',\n",
       " 'RawMET',\n",
       " 'SoftActivityJetNjets5']"
      ]
     },
     "execution_count": 3,
     "metadata": {},
     "output_type": "execute_result"
    }
   ],
   "source": [
    "events.fields"
   ]
  },
  {
   "cell_type": "code",
   "execution_count": null,
   "id": "cab79b22-0578-456e-9f51-4cfff628fe0b",
   "metadata": {},
   "outputs": [],
   "source": [
    "events['Generator']['weight']"
   ]
  },
  {
   "cell_type": "code",
   "execution_count": null,
   "id": "c30d216f-6bf8-439b-bf70-dd0c88f07920",
   "metadata": {},
   "outputs": [],
   "source": [
    "for field in events['Generator'].fields:\n",
    "    print(field, events['Generator'][field])\n",
    "# print(events['Generator']['xpdf1'])\n",
    "# print(events['Generator']['xpdf2'])\n"
   ]
  },
  {
   "cell_type": "code",
   "execution_count": null,
   "id": "8b0c45be-3cc9-4309-bfcc-5bd962dbe841",
   "metadata": {},
   "outputs": [],
   "source": [
    "xpdf1 = events['Generator']['xpdf1']\n",
    "xpdf2 = events['Generator']['xpdf2']"
   ]
  },
  {
   "cell_type": "code",
   "execution_count": null,
   "id": "bae23f84-7bfc-478e-a1b3-30173fc3b0d0",
   "metadata": {},
   "outputs": [],
   "source": [
    "  inline double weightxQ2(int id, double x, double Q2, const PDF& basepdf, const PDF& newpdf, double aschk=5e-2) {\n",
    "    if (aschk >= 0) _checkAlphasQ2(Q2, basepdf, newpdf, aschk);\n",
    "    const double xf_base = basepdf.xfxQ2(id, x, Q2);\n",
    "    const double xf_new = newpdf.xfxQ2(id, x, Q2);\n",
    "    return xf_new / xf_base;\n",
    " \n",
    " \n",
    " \n",
    "  inline double weightxxQ2(int id1, int id2, double x1, double x2, double Q2, const PDF& basepdf, const PDF& newpdf, double aschk=5e-2) {\n",
    "    if (aschk >= 0) _checkAlphasQ2(Q2, basepdf, newpdf, aschk);\n",
    "    const double w1 = weightxQ2(id1, x1, Q2, basepdf, newpdf, -1);\n",
    "    const double w2 = weightxQ2(id2, x2, Q2, basepdf, newpdf, -1);\n",
    "    return w1 * w2;"
   ]
  },
  {
   "cell_type": "code",
   "execution_count": null,
   "id": "562cf1ba-1cb2-400a-afcb-21c5412f3a45",
   "metadata": {},
   "outputs": [],
   "source": [
    "import lhapdf"
   ]
  },
  {
   "cell_type": "code",
   "execution_count": null,
   "id": "016f7c01-5711-4c3b-9d0a-77f33d24253d",
   "metadata": {},
   "outputs": [],
   "source": [
    "import ROOT"
   ]
  },
  {
   "cell_type": "code",
   "execution_count": null,
   "id": "31696aae-79d9-4e37-883c-9fe0b8fb29b8",
   "metadata": {},
   "outputs": [],
   "source": [
    "\n",
    "\n",
    "def weightxQ2(x, Q2, basepdf, newpdf, idx):\n",
    "    \n",
    "    xf_base = basepdf.eval(idx, x, Q2)\n",
    "    xf_new  =  newpdf.eval(idx, x, Q2)\n",
    "    \n",
    "    return xf_new / xf_base\n",
    "    \n",
    "def weightxxQ2(x1, x2, Q2, basepdf, newpdf, pgdid)\n",
    "    \n",
    "    w1 = weightxQ2(x1, Q, basepdf, newpdf, id1)\n",
    "    w2 = weightxQ2(x2, Q, basepdf, newpdf, id1)\n",
    "\n",
    "    return w1 * w2    "
   ]
  },
  {
   "cell_type": "code",
   "execution_count": null,
   "id": "21d08689-3faa-441b-bd36-b32992da0b23",
   "metadata": {},
   "outputs": [],
   "source": [
    "def weightxxQ2(xpdf1, xpdf2)\n",
    "    \n",
    "    w1 = weightxQ2(x1, Q, basepdf, newpdf)\n",
    "    w2 = weightxQ2(x2, Q, basepdf, newpdf)\n",
    "\n",
    "    return w1 * w2"
   ]
  },
  {
   "cell_type": "code",
   "execution_count": null,
   "id": "f0e6c27e-ebdc-46b3-a04d-d37007694388",
   "metadata": {},
   "outputs": [],
   "source": [
    "def weightxxQ2(xpdf1, xpdf2):\n",
    "    \n",
    "    xf1_new = np.ones_like(xpdf1)\n",
    "    xf1_base = np.ones_like(xpdf1)\n",
    "    xf2_new = np.ones_like(xpdf2)\n",
    "    xf2_base = np.ones_like(xpdf2)\n",
    "    \n",
    "    w1 = xf1_new / xf1_base\n",
    "    w2 = xf2_new / xf2_base\n",
    "\n",
    "    return w1 * w2\n",
    "    \n",
    "    "
   ]
  },
  {
   "cell_type": "code",
   "execution_count": null,
   "id": "3bcd70ff-23cf-40d1-8d38-236446d11a3e",
   "metadata": {},
   "outputs": [],
   "source": [
    "weightxxQ2(xpdf1, xpdf2)"
   ]
  },
  {
   "cell_type": "code",
   "execution_count": null,
   "id": "5b16f3d1-0988-4f7e-89fa-2b2ace9998d3",
   "metadata": {},
   "outputs": [],
   "source": [
    "print(pdf1)\n",
    "print(pdf2)"
   ]
  },
  {
   "cell_type": "code",
   "execution_count": null,
   "id": "afdda77b-e9cb-43f9-bd5b-cf0d83d1e2ca",
   "metadata": {},
   "outputs": [],
   "source": [
    "events.FatJet.fields"
   ]
  },
  {
   "cell_type": "markdown",
   "id": "5924beee-b3d5-4f6f-91ba-f5419c1ed66a",
   "metadata": {},
   "source": [
    "### load .coffea file"
   ]
  },
  {
   "cell_type": "code",
   "execution_count": null,
   "id": "856cd7f7-60a6-430a-95ca-006d64deabeb",
   "metadata": {},
   "outputs": [],
   "source": [
    "# output = util.load('test.coffea')\n",
    "output = util.load('TTbar_output.coffea')\n",
    "# output = util.load('RSGluon3000_output.coffea')"
   ]
  },
  {
   "cell_type": "code",
   "execution_count": null,
   "id": "c9d81546-3b9e-4d41-a077-f12ce92f8062",
   "metadata": {},
   "outputs": [],
   "source": [
    "coffea.hist.plot1d(output['ttbarmass_jer_up'].sum('anacat'))\n",
    "coffea.hist.plot1d(output['ttbarmass_jer'].sum('anacat'))\n",
    "coffea.hist.plot1d(output['ttbarmass_jer_down'].sum('anacat'))\n",
    "plt.legend(['JER', 'JER down', 'JER up'])"
   ]
  },
  {
   "cell_type": "code",
   "execution_count": null,
   "id": "04bfec72-8972-4902-a8ed-6d8c621a5507",
   "metadata": {},
   "outputs": [],
   "source": [
    "# output = util.load('test.coffea')\n",
    "output = util.load('TTbar_output.coffea')\n",
    "# output = util.load('RSGluon3000_output.coffea')"
   ]
  },
  {
   "cell_type": "code",
   "execution_count": null,
   "id": "21bb5244-d06f-43ce-b1f6-5178dcbeb6e0",
   "metadata": {},
   "outputs": [],
   "source": [
    "# output['jetpt_jec'].axis('anacat').identifiers()"
   ]
  },
  {
   "cell_type": "code",
   "execution_count": null,
   "id": "988be732-ed70-45c6-b8e1-4822ed1bb4a8",
   "metadata": {},
   "outputs": [],
   "source": [
    "h = output['jetpt_jec'].integrate('anacat','2t2bcen').sum('dataset')\n",
    "coffea.hist.plot1d(h)"
   ]
  },
  {
   "cell_type": "markdown",
   "id": "0962902e-beb7-4af2-b7c5-b58d94fdbffe",
   "metadata": {},
   "source": [
    "### coffea.hist.export1d\n",
    "export coffea histogram to root file"
   ]
  },
  {
   "cell_type": "code",
   "execution_count": null,
   "id": "ae92e260-f1ef-4ab9-a04f-3e671d00a2a5",
   "metadata": {},
   "outputs": [],
   "source": [
    "# hname = 'RSGluon3000_cen2b_jetpt'\n",
    "\n",
    "\n",
    "# fout = uproot3.create(hname+'.root')\n",
    "# fout[hname] = coffea.hist.export1d(h)\n",
    "# fout.close()"
   ]
  },
  {
   "cell_type": "code",
   "execution_count": null,
   "id": "9aa71c36-1347-400f-9e68-4540044a8342",
   "metadata": {},
   "outputs": [],
   "source": [
    "import itertools"
   ]
  },
  {
   "cell_type": "code",
   "execution_count": null,
   "id": "458822ab-a094-4d56-866f-4736a024d785",
   "metadata": {},
   "outputs": [],
   "source": [
    "ttagcats = [\"AT&Pt\", \"at\", \"pret\", \"0t\", \"1t\", \">=1t\", \"2t\", \">=0t\"]\n",
    "btagcats = ['0b', '1b', '2b']\n",
    "ycats = ['cen', 'fwd']\n",
    "labels = [ t+b+y for t,b,y in itertools.product( ttagcats, btagcats, ycats) ]\n",
    "label_map = {i: label for i, label in enumerate(labels)}"
   ]
  },
  {
   "cell_type": "code",
   "execution_count": null,
   "id": "1c41c605-a9d2-4fd3-9b9f-2c3dae2276d0",
   "metadata": {},
   "outputs": [],
   "source": []
  },
  {
   "cell_type": "code",
   "execution_count": null,
   "id": "8a403058-383f-4dae-b85f-16670e28d056",
   "metadata": {},
   "outputs": [],
   "source": [
    "label_map"
   ]
  },
  {
   "cell_type": "code",
   "execution_count": null,
   "id": "708d24b2-85b7-4b0a-bcb8-fb3760f2bae2",
   "metadata": {},
   "outputs": [],
   "source": [
    "labels = [ t+b+y for t,b,y in itertools.product( ttagcats, btagcats, ycats) ]"
   ]
  },
  {
   "cell_type": "code",
   "execution_count": null,
   "id": "08c2141c-b0a4-4f8d-8a19-03db3cb03dc6",
   "metadata": {},
   "outputs": [],
   "source": [
    "for i, label in enumerate(labels):\n",
    "    print(i, label)"
   ]
  },
  {
   "cell_type": "code",
   "execution_count": null,
   "id": "f793c8ee-3aa6-4606-8031-5842c25b065a",
   "metadata": {},
   "outputs": [],
   "source": [
    "bcats = ['0b', '1b', '2b']\n",
    "ycats = ['cen', 'fwd']\n",
    "# dsname = 'RSGluon3000'\n",
    "dsname = 'TTbar'\n",
    "histnames = ['ttbarmass', 'jetpt']\n",
    "systs = ['', '_jerUp', '_jerDown']\n",
    "fname = dsname+'Combine.root'\n",
    "\n",
    "fout = uproot3.create(fname)\n",
    "print('creating '+fname)\n",
    "\n",
    "\n",
    "for histname in histnames:\n",
    "    for bcat in bcats:\n",
    "        for ycat in ycats:\n",
    "            for syst in systs:\n",
    "\n",
    "                cat = '2t' + bcat + ycat\n",
    "                hname = dsname+'_'+ycat+bcat+'_'+histname+syst\n",
    "\n",
    "                if 'Down' in syst:\n",
    "                    h = output['jetpt_jec_down'].integrate('anacat',cat).sum('dataset')\n",
    "                elif 'Up' in syst:\n",
    "                    h = output['jetpt_jec_up'].integrate('anacat',cat).sum('dataset')\n",
    "                else:\n",
    "                    h = output['jetpt_jec'].integrate('anacat',cat).sum('dataset')\n",
    "\n",
    "\n",
    "                fout[hname] = coffea.hist.export1d(h)\n",
    "\n",
    "                print(hname)\n",
    "\n",
    "\n",
    "        \n",
    "\n",
    "         \n",
    "\n",
    "fout.close()\n",
    "\n",
    "        \n",
    "        "
   ]
  },
  {
   "cell_type": "code",
   "execution_count": null,
   "id": "e39476fa-595e-42f5-8393-2a03e2b0c63a",
   "metadata": {},
   "outputs": [],
   "source": []
  },
  {
   "cell_type": "code",
   "execution_count": null,
   "id": "ee4bd204-4292-4ee1-aa55-d87e5d58cbe1",
   "metadata": {},
   "outputs": [],
   "source": []
  },
  {
   "cell_type": "code",
   "execution_count": null,
   "id": "0b3749de-55e1-4a0e-ad6d-5a8bf8ea60b8",
   "metadata": {},
   "outputs": [],
   "source": [
    "import hist"
   ]
  },
  {
   "cell_type": "code",
   "execution_count": null,
   "id": "b84ae15f-9d79-4f14-a838-fb052a9ffd66",
   "metadata": {},
   "outputs": [],
   "source": [
    "h = Hist.new"
   ]
  },
  {
   "cell_type": "code",
   "execution_count": null,
   "id": "e178e88e-4a6c-4bb2-9a0b-70b52d85e653",
   "metadata": {},
   "outputs": [],
   "source": [
    "hist.plot1d(h)"
   ]
  },
  {
   "cell_type": "code",
   "execution_count": null,
   "id": "8b30355d-5261-4c52-975f-6bfdce56fbc2",
   "metadata": {},
   "outputs": [],
   "source": [
    "hist"
   ]
  },
  {
   "cell_type": "code",
   "execution_count": null,
   "id": "b5cae2a4-3ddc-4ae8-a8d0-cd1b1efe6016",
   "metadata": {},
   "outputs": [],
   "source": [
    "h = (\n",
    "  Hist.new\n",
    "  .Reg(10, 0 ,1, name=\"x\", label=\"x-axis\")\n",
    "  .Var(range(10), name=\"y\", label=\"y-axis\")\n",
    "  .Int64()\n",
    ")"
   ]
  },
  {
   "cell_type": "code",
   "execution_count": null,
   "id": "bf2e536c-4d4c-44a2-8895-df867db2a5bb",
   "metadata": {},
   "outputs": [],
   "source": [
    "h.fill(y=[1, 4, 6], x=[3, 5, 2])"
   ]
  },
  {
   "cell_type": "code",
   "execution_count": null,
   "id": "ce6377c5-e9c2-4df3-903e-6aaac027d900",
   "metadata": {},
   "outputs": [],
   "source": [
    "h.plot()"
   ]
  },
  {
   "cell_type": "code",
   "execution_count": null,
   "id": "0a9e9708-77db-4467-b8d4-e594fc5d91d5",
   "metadata": {},
   "outputs": [],
   "source": [
    "h.project(\"x\")"
   ]
  },
  {
   "cell_type": "code",
   "execution_count": null,
   "id": "dcaabf01-9512-4594-9317-ee98da995d6c",
   "metadata": {},
   "outputs": [],
   "source": [
    "h[{\"y\": 0.5j + 3, \"x\": 5j}]"
   ]
  },
  {
   "cell_type": "code",
   "execution_count": null,
   "id": "de952eb6-873a-4662-8644-9570539e4f59",
   "metadata": {},
   "outputs": [],
   "source": [
    "h.plot()\n"
   ]
  },
  {
   "cell_type": "code",
   "execution_count": null,
   "id": "7481dbda-e892-48cd-861d-24e801d733f4",
   "metadata": {},
   "outputs": [],
   "source": [
    "h.plot2d_full()"
   ]
  },
  {
   "cell_type": "code",
   "execution_count": null,
   "id": "bf556489-a4a8-4a7c-a704-13f822b88529",
   "metadata": {},
   "outputs": [],
   "source": [
    "h.density()"
   ]
  },
  {
   "cell_type": "code",
   "execution_count": null,
   "id": "ea924a17-bec6-4794-bd87-adceb909dd88",
   "metadata": {},
   "outputs": [],
   "source": [
    "\n",
    "\n",
    "import correctionlib"
   ]
  },
  {
   "cell_type": "code",
   "execution_count": null,
   "id": "3599f888-581b-4b1b-9f59-a55165a9debf",
   "metadata": {},
   "outputs": [],
   "source": [
    "ceval = correctionlib.CorrectionSet.from_file(\"mycorrections2.json\")\n",
    "list(ceval.keys())"
   ]
  },
  {
   "cell_type": "code",
   "execution_count": null,
   "id": "77ba7053-02a5-4fb2-b14e-0ebe08fa142e",
   "metadata": {},
   "outputs": [],
   "source": [
    "ceval['phimod']"
   ]
  },
  {
   "cell_type": "code",
   "execution_count": null,
   "id": "4b1bb25b-a083-420d-b4bb-aaa8c3360e7c",
   "metadata": {},
   "outputs": [],
   "source": [
    "\n",
    "\n",
    "for corr in ceval.values():\n",
    "    print(f\"Correction {corr.name} has {len(corr.inputs)} inputs\")\n",
    "    for ix in corr.inputs:\n",
    "        print(f\"   Input {ix.name} ({ix.type}): {ix.description}\")\n",
    "\n"
   ]
  },
  {
   "cell_type": "code",
   "execution_count": null,
   "id": "6b98ed48-dfc5-4631-aef4-615c6f8f01f8",
   "metadata": {},
   "outputs": [],
   "source": [
    "corr = ceval2\n",
    "\n",
    "print(f\"Correction {corr.name} has {len(corr.inputs)} inputs\")\n",
    "for ix in corr.inputs:\n",
    "    print(f\"   Input {ix.name} ({ix.type}): {ix.description}\")"
   ]
  },
  {
   "cell_type": "code",
   "execution_count": null,
   "id": "d5be21d1-36f0-4f2e-b7a8-4a69eb1d847c",
   "metadata": {},
   "outputs": [],
   "source": [
    "ceval.values()"
   ]
  },
  {
   "cell_type": "code",
   "execution_count": null,
   "id": "4ba82004-5568-41bf-90da-7773d362029b",
   "metadata": {},
   "outputs": [],
   "source": [
    "corr['inputs']"
   ]
  },
  {
   "cell_type": "code",
   "execution_count": null,
   "id": "437f7823-5430-46ba-9c0d-2694e22410e4",
   "metadata": {},
   "outputs": [],
   "source": []
  },
  {
   "cell_type": "code",
   "execution_count": null,
   "id": "4f60c420-f9e6-4aa9-99cd-bf03a60037c9",
   "metadata": {},
   "outputs": [],
   "source": [
    "from Filesets import CollectDatasets"
   ]
  },
  {
   "cell_type": "code",
   "execution_count": null,
   "id": "573cb1a6-2bcf-411c-9ee3-af9bc2cb79d8",
   "metadata": {},
   "outputs": [],
   "source": [
    "filesets = CollectDatasets('root://xcache/')\n"
   ]
  },
  {
   "cell_type": "code",
   "execution_count": null,
   "id": "ebc600a1-8295-4652-9af6-d5f9a260d9f4",
   "metadata": {},
   "outputs": [],
   "source": [
    "filesets.keys()"
   ]
  },
  {
   "cell_type": "code",
   "execution_count": null,
   "id": "a7ac9ec6-3f28-4e60-880f-394ae26e5c65",
   "metadata": {},
   "outputs": [],
   "source": [
    "for key in filesets.keys():\n",
    "    if 'post' in key:\n",
    "        print(key.replace('UL16preVFP_', ''), filesets[key][0][24:])\n",
    "    else:\n",
    "        print(key.replace('UL16preVFP_', ''), filesets[key][0])#[0][24:])"
   ]
  },
  {
   "cell_type": "code",
   "execution_count": null,
   "id": "6c56fbcd-cfd2-4e29-9dbf-77361c988c8e",
   "metadata": {},
   "outputs": [],
   "source": [
    "fname = 'root://xcache//store/mc/RunIISummer20UL16NanoAODAPVv9/QCD_Pt-15to7000_TuneCP5_Flat2018_13TeV_pythia8/NANOAODSIM/106X_mcRun2_asymptotic_preVFP_v11-v1/280000/28D6431D-53B5-4848-9711-1004968A7B19.root'\n",
    "fname = 'root://xcache//store/mc/RunIISummer20UL16NanoAODAPVv9/RSGluonToTT_M-5000_TuneCP5_13TeV-pythia8/NANOAODSIM/106X_mcRun2_asymptotic_preVFP_v11-v1/130000/DA014FEE-3263-D34B-B599-0B88643965DF.root'\n",
    "fname = 'root://xcache//store/mc/RunIISummer20UL16NanoAODAPVv9/TT_Mtt-700to1000_TuneCP5_13TeV-powheg-pythia8/NANOAODSIM/106X_mcRun2_asymptotic_preVFP_v11-v1/2530000/A3B85074-0EBB-B244-BBFA-CEEDBDD0A2C5.root'\n",
    "fname = 'root://xcache//store/mc/RunIISummer20UL16NanoAODAPVv9/ZprimeDMToTTbarResoIncl_MZp5000_Mchi10_V1_TuneCP5_13TeV-madgraph_pythia8/NANOAODSIM/106X_mcRun2_asymptotic_preVFP_v11-v1/280000/5EAF12A2-E3AF-D744-A7D4-9F2665FDB8E2.root'\n"
   ]
  },
  {
   "cell_type": "code",
   "execution_count": null,
   "id": "915d5547-a169-4671-9220-05ffb54c2aba",
   "metadata": {},
   "outputs": [],
   "source": [
    "fname"
   ]
  },
  {
   "cell_type": "code",
   "execution_count": null,
   "id": "f403b5fe-30f3-4cfc-a68f-3ff675e2a961",
   "metadata": {},
   "outputs": [],
   "source": [
    "rfile = uproot.open(fname)\n",
    "# events = NanoEventsFactory.from_root(fname, schemaclass=NanoAODSchema).events()\n",
    "# events.fields"
   ]
  },
  {
   "cell_type": "code",
   "execution_count": null,
   "id": "1c8b2cc7-f1f2-469f-8400-7fb5c40913f6",
   "metadata": {},
   "outputs": [],
   "source": [
    "events = NanoEventsFactory.from_root(fname, schemaclass=NanoAODSchema).events()"
   ]
  },
  {
   "cell_type": "code",
   "execution_count": null,
   "id": "35a9105b-f764-4311-9ec0-e8c2df4f5ddf",
   "metadata": {},
   "outputs": [],
   "source": [
    "for obj in events.fields:\n",
    "    if 'lhe' in obj.lower():\n",
    "        print(obj)"
   ]
  },
  {
   "cell_type": "code",
   "execution_count": null,
   "id": "d104239a-e72e-41c5-9b21-f32d41039d50",
   "metadata": {},
   "outputs": [],
   "source": []
  },
  {
   "cell_type": "code",
   "execution_count": null,
   "id": "df8ac785-f42e-48ce-a4e3-0c6001a018f6",
   "metadata": {},
   "outputs": [],
   "source": []
  },
  {
   "cell_type": "code",
   "execution_count": null,
   "id": "cd782ddf-db65-4725-a121-c8e7a0630fa4",
   "metadata": {},
   "outputs": [],
   "source": []
  },
  {
   "cell_type": "code",
   "execution_count": null,
   "id": "551e92fd-a2a0-456a-90f7-c5e2d945b3c3",
   "metadata": {},
   "outputs": [],
   "source": []
  },
  {
   "cell_type": "code",
   "execution_count": null,
   "id": "977bc0b3-d4a3-4726-b136-71b7bbf3d0aa",
   "metadata": {},
   "outputs": [],
   "source": [
    "ttagcats = [\"AT&Pt\", \"at\", \"pret\", \"0t\", \"1t\", \">=1t\", \"2t\", \">=0t\"] \n",
    "btagcats = [\"0b\", \"1b\", \"2b\"]\n",
    "ycats = ['cen', 'fwd']\n",
    "anacats = np.array([ t+b+y for t,b,y in itertools.product( ttagcats, btagcats, ycats) ])"
   ]
  },
  {
   "cell_type": "code",
   "execution_count": null,
   "id": "266151db-448c-4dd7-b4e6-e9508ed97ce1",
   "metadata": {},
   "outputs": [],
   "source": [
    "# output = util.load('CoffeaOutputsForCombine/Coffea_SecondRun/TT/MediumBTag/2016/noAPV/TTbarRes_0l_UL16postVFP_TTbar_weighted_btagUnc_central.coffea')\n",
    "# output = util.load('CoffeaOutputsForCombine/Coffea_SecondRun/TT/MediumBTag/2016/noAPV/TTbarRes_0l_UL16postVFP_TTbar_weighted.coffea')\n",
    "output = util.load('CoffeaOutputsForCombine/Coffea_SecondRun/RSGluonToTT/MediumBTag/2016/noAPV/TTbarRes_0l_UL16postVFP_RSGluon5000_weighted_jerUnc_jer.coffea')"
   ]
  },
  {
   "cell_type": "code",
   "execution_count": null,
   "id": "6ecc23e5-d107-4df3-845c-88eecd57eb58",
   "metadata": {},
   "outputs": [],
   "source": [
    "output.keys()"
   ]
  },
  {
   "cell_type": "code",
   "execution_count": null,
   "id": "73f06398-aabd-4b19-8a86-6f3e8126f0fd",
   "metadata": {},
   "outputs": [],
   "source": [
    "output['ttbarmass'][{\"anacat\":sum}].plot1d(overlay=\"dataset\")#, histtype=\"fill\", stack=True)\n"
   ]
  },
  {
   "cell_type": "code",
   "execution_count": null,
   "id": "6774e11f-2191-42df-bef7-6f39e6f73473",
   "metadata": {},
   "outputs": [],
   "source": [
    "output['ttbarmass_jerNom'][{\"anacat\":sum}].plot1d(overlay=\"dataset\")\n",
    "output['ttbarmass_jerUp'][{\"anacat\":sum}].plot1d(overlay=\"dataset\")\n",
    "output['ttbarmass_jerDown'][{\"anacat\":sum}].plot1d(overlay=\"dataset\")\n",
    "# plt.ylim(1500, 2000)\n",
    "plt.legend(['central', 'up', 'down'])"
   ]
  },
  {
   "cell_type": "code",
   "execution_count": null,
   "id": "1ee30627-8494-468c-a441-189b4b87c7f0",
   "metadata": {},
   "outputs": [],
   "source": [
    "for i in range(48):\n",
    "    \n",
    "    print(anacats[i], output['ttbarmass_jerNom'].sum().value)\n",
    "    \n",
    "    \n",
    "    output['ttbarmass_jerUp'][{\"anacat\":i}].plot1d(overlay=\"dataset\")#, histtype=\"fill\", stack=True)\n",
    "    output['ttbarmass_jerDown'][{\"anacat\":i}].plot1d(overlay=\"dataset\")#, histtype=\"fill\", stack=True)\n",
    "    output['ttbarmass_jerNom'][{\"anacat\":i}].plot1d(overlay=\"dataset\")#, histtype=\"fill\", stack=True)\n",
    "    plt.legend([anacats[i]])\n",
    "    plt.show()\n"
   ]
  },
  {
   "cell_type": "code",
   "execution_count": null,
   "id": "224246d2-3b61-44cd-a2df-0a55e4992de5",
   "metadata": {},
   "outputs": [],
   "source": [
    "output['ttbarmass_jerNom'][{\"anacat\":sum}].plot1d(overlay=\"dataset\")#, histtype=\"fill\", stack=True)\n"
   ]
  },
  {
   "cell_type": "code",
   "execution_count": null,
   "id": "d5ea93ee-65e3-41b7-9e4c-0e4af1280342",
   "metadata": {},
   "outputs": [],
   "source": [
    "output.keys()"
   ]
  },
  {
   "cell_type": "code",
   "execution_count": null,
   "id": "5d6a2021-d63e-47a8-ae5a-7cddddeed8c3",
   "metadata": {},
   "outputs": [],
   "source": [
    "# from dask.distributed import Client\n",
    "\n",
    "# client = Client(\"tls://morris35-40buffalo-2eedu.dask.cmsaf-prod.flatiron.hollandhpc.org:8786\")\n",
    "# client"
   ]
  },
  {
   "cell_type": "code",
   "execution_count": null,
   "id": "54f90a58-01ff-4646-a130-3ff9b74b3089",
   "metadata": {},
   "outputs": [],
   "source": []
  },
  {
   "cell_type": "code",
   "execution_count": null,
   "id": "2da739e1-721a-4cad-954b-f8333029b1c0",
   "metadata": {},
   "outputs": [],
   "source": [
    "from dask.distributed import Client\n",
    "from coffea_casa import CoffeaCasaCluster\n",
    "\n",
    "# cluster = CoffeaCasaCluster()"
   ]
  },
  {
   "cell_type": "code",
   "execution_count": null,
   "id": "310101b0-7776-4a7f-a92d-c438fede255e",
   "metadata": {},
   "outputs": [],
   "source": [
    "client = Client('tls://morris35-40buffalo-2eedu.dask.cmsaf-prod.flatiron.hollandhpc.org:8786')"
   ]
  },
  {
   "cell_type": "code",
   "execution_count": null,
   "id": "0da79f63-3e72-4a85-81c8-61460ce1f1b7",
   "metadata": {},
   "outputs": [],
   "source": [
    "cluster = CoffeaCasaCluster()"
   ]
  },
  {
   "cell_type": "code",
   "execution_count": null,
   "id": "d6852ca4-cf8e-49c2-bbe1-6f7cffcfa8ec",
   "metadata": {},
   "outputs": [],
   "source": [
    "client = Client('tls://morris35-40buffalo-2eedu.dask.cmsaf-prod.flatiron.hollandhpc.org:8786')"
   ]
  },
  {
   "cell_type": "code",
   "execution_count": null,
   "id": "7858f36e-7dfe-4bd0-b177-62c5c66aacea",
   "metadata": {},
   "outputs": [],
   "source": [
    "cluster = CoffeaCasaCluster(cores=11, memory=\"100 GiB\",death_timeout=30.,\n",
    "                            scheduler_options={\"port\": \"8778\", \"dashboard_address\": \"8779\"}\n",
    "                           \n",
    "                           )"
   ]
  },
  {
   "cell_type": "code",
   "execution_count": null,
   "id": "5d90fd98-3b05-4837-98d1-ed7af7443359",
   "metadata": {},
   "outputs": [],
   "source": [
    "client"
   ]
  },
  {
   "cell_type": "code",
   "execution_count": null,
   "id": "0ae765fe-8fd7-438e-9ce9-78ed500a509b",
   "metadata": {},
   "outputs": [],
   "source": [
    "cluster = CoffeaCasaCluster()"
   ]
  },
  {
   "cell_type": "code",
   "execution_count": null,
   "id": "8cee582d-101e-4d43-a358-c691406095de",
   "metadata": {},
   "outputs": [],
   "source": [
    "from dask_jobqueue import PBSCluster\n"
   ]
  },
  {
   "cell_type": "code",
   "execution_count": null,
   "id": "816dfbe5-e75b-42cf-b022-98482d6c2837",
   "metadata": {},
   "outputs": [],
   "source": [
    "cluster = PBSCluster(cores=15, memory='100GB')"
   ]
  },
  {
   "cell_type": "code",
   "execution_count": null,
   "id": "07160470-363b-478d-8911-948166b61fc7",
   "metadata": {},
   "outputs": [],
   "source": []
  }
 ],
 "metadata": {
  "kernelspec": {
   "display_name": "Python 3 (ipykernel)",
   "language": "python",
   "name": "python3"
  },
  "language_info": {
   "codemirror_mode": {
    "name": "ipython",
    "version": 3
   },
   "file_extension": ".py",
   "mimetype": "text/x-python",
   "name": "python",
   "nbconvert_exporter": "python",
   "pygments_lexer": "ipython3",
   "version": "3.8.16"
  }
 },
 "nbformat": 4,
 "nbformat_minor": 5
}
